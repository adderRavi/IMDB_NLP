{
 "cells": [
  {
   "cell_type": "code",
   "execution_count": 1,
   "metadata": {
    "collapsed": true
   },
   "outputs": [],
   "source": [
    "import numpy as np\n",
    "import pandas as pd"
   ]
  },
  {
   "cell_type": "code",
   "execution_count": 2,
   "metadata": {},
   "outputs": [
    {
     "name": "stdout",
     "output_type": "stream",
     "text": [
      "Read 25000 Labelled train reviews,Read 25000 test reviews and Read 50000 unLabelled train reviews\n",
      "\n"
     ]
    }
   ],
   "source": [
    "train=pd.read_csv('IMDB/labeledTrainData.tsv', sep='\\t',quoting=3,header=0)\n",
    "test=pd.read_csv('IMDB/testData.tsv', sep='\\t',quoting=3,header=0)\n",
    "unlab_train=pd.read_csv('IMDB/unlabeledTrainData.tsv', sep='\\t',quoting=3,header=0)\n",
    "print(\"Read %d Labelled train reviews,Read %d test reviews and Read %d unLabelled train reviews\\n\" % (train['review'].size,test['review'].size,\n",
    "     unlab_train['review'].size))"
   ]
  },
  {
   "cell_type": "code",
   "execution_count": 3,
   "metadata": {
    "collapsed": true
   },
   "outputs": [],
   "source": [
    "from bs4 import BeautifulSoup\n",
    "import re\n",
    "from nltk.corpus import stopwords"
   ]
  },
  {
   "cell_type": "code",
   "execution_count": 4,
   "metadata": {
    "collapsed": true
   },
   "outputs": [],
   "source": [
    "def review_to_words(review, remove_stopwords=False):\n",
    "    review_text=BeautifulSoup(review).get_text()\n",
    "    review_text=re.sub(\"[^a-zA-Z]\", \" \", review_text)\n",
    "    words=review_text.lower().split()\n",
    "    #Optionally remove stop words (false by default)\n",
    "    if remove_stopwords:\n",
    "        stops =set(stopwords.words(\"english\"))\n",
    "        words = [w for w in words if not w in stops]\n",
    "    return(words)"
   ]
  },
  {
   "cell_type": "code",
   "execution_count": 6,
   "metadata": {
    "collapsed": true
   },
   "outputs": [],
   "source": [
    "import nltk.data\n",
    "tokenizer=nltk.data.load('tokenizers/punkt/english.pickle')"
   ]
  },
  {
   "cell_type": "code",
   "execution_count": 7,
   "metadata": {
    "collapsed": true
   },
   "outputs": [],
   "source": [
    "def review_to_sentences(review,tokenizer,remove_stopwords =False):\n",
    "    raw_sentences = tokenizer.tokenize(review.strip())   #Use the NLTK tokenizer to split the paragraph into sentences\n",
    "    sentences =[]\n",
    "    for raw_sentences in raw_sentences:\n",
    "        if len(raw_sentences)>0:\n",
    "            sentences.append(review_to_words(raw_sentences,remove_stopwords))\n",
    "    return sentences"
   ]
  },
  {
   "cell_type": "code",
   "execution_count": 8,
   "metadata": {},
   "outputs": [
    {
     "name": "stdout",
     "output_type": "stream",
     "text": [
      "Parsing sentences from training sets\n"
     ]
    },
    {
     "name": "stderr",
     "output_type": "stream",
     "text": [
      "C:\\Users\\VIPL013\\Anaconda3\\lib\\site-packages\\bs4\\__init__.py:181: UserWarning: No parser was explicitly specified, so I'm using the best available HTML parser for this system (\"lxml\"). This usually isn't a problem, but if you run this code on another system, or in a different virtual environment, it may use a different parser and behave differently.\n",
      "\n",
      "The code that caused this warning is on line 193 of the file C:\\Users\\VIPL013\\Anaconda3\\lib\\runpy.py. To get rid of this warning, change code that looks like this:\n",
      "\n",
      " BeautifulSoup(YOUR_MARKUP})\n",
      "\n",
      "to this:\n",
      "\n",
      " BeautifulSoup(YOUR_MARKUP, \"lxml\")\n",
      "\n",
      "  markup_type=markup_type))\n",
      "C:\\Users\\VIPL013\\Anaconda3\\lib\\site-packages\\bs4\\__init__.py:219: UserWarning: \"b'.'\" looks like a filename, not markup. You should probably open this file and pass the filehandle into Beautiful Soup.\n",
      "  ' Beautiful Soup.' % markup)\n",
      "C:\\Users\\VIPL013\\Anaconda3\\lib\\site-packages\\bs4\\__init__.py:219: UserWarning: \"b'...'\" looks like a filename, not markup. You should probably open this file and pass the filehandle into Beautiful Soup.\n",
      "  ' Beautiful Soup.' % markup)\n",
      "C:\\Users\\VIPL013\\Anaconda3\\lib\\site-packages\\bs4\\__init__.py:282: UserWarning: \"http://www.happierabroad.com\"\" looks like a URL. Beautiful Soup is not an HTTP client. You should probably use an HTTP client like requests to get the document behind the URL, and feed that document to Beautiful Soup.\n",
      "  ' that document to Beautiful Soup.' % decoded_markup\n"
     ]
    },
    {
     "name": "stdout",
     "output_type": "stream",
     "text": [
      "Parsing sentences from unlabelled training sets\n"
     ]
    },
    {
     "name": "stderr",
     "output_type": "stream",
     "text": [
      "C:\\Users\\VIPL013\\Anaconda3\\lib\\site-packages\\bs4\\__init__.py:282: UserWarning: \"http://www.archive.org/details/LovefromaStranger\"\" looks like a URL. Beautiful Soup is not an HTTP client. You should probably use an HTTP client like requests to get the document behind the URL, and feed that document to Beautiful Soup.\n",
      "  ' that document to Beautiful Soup.' % decoded_markup\n",
      "C:\\Users\\VIPL013\\Anaconda3\\lib\\site-packages\\bs4\\__init__.py:282: UserWarning: \"http://www.loosechangeguide.com/LooseChangeGuide.html\"\" looks like a URL. Beautiful Soup is not an HTTP client. You should probably use an HTTP client like requests to get the document behind the URL, and feed that document to Beautiful Soup.\n",
      "  ' that document to Beautiful Soup.' % decoded_markup\n",
      "C:\\Users\\VIPL013\\Anaconda3\\lib\\site-packages\\bs4\\__init__.py:219: UserWarning: \"b'... ...'\" looks like a filename, not markup. You should probably open this file and pass the filehandle into Beautiful Soup.\n",
      "  ' Beautiful Soup.' % markup)\n",
      "C:\\Users\\VIPL013\\Anaconda3\\lib\\site-packages\\bs4\\__init__.py:219: UserWarning: \"b'....'\" looks like a filename, not markup. You should probably open this file and pass the filehandle into Beautiful Soup.\n",
      "  ' Beautiful Soup.' % markup)\n",
      "C:\\Users\\VIPL013\\Anaconda3\\lib\\site-packages\\bs4\\__init__.py:282: UserWarning: \"http://www.msnbc.msn.com/id/4972055/site/newsweek/\"\" looks like a URL. Beautiful Soup is not an HTTP client. You should probably use an HTTP client like requests to get the document behind the URL, and feed that document to Beautiful Soup.\n",
      "  ' that document to Beautiful Soup.' % decoded_markup\n",
      "C:\\Users\\VIPL013\\Anaconda3\\lib\\site-packages\\bs4\\__init__.py:219: UserWarning: \"b'..'\" looks like a filename, not markup. You should probably open this file and pass the filehandle into Beautiful Soup.\n",
      "  ' Beautiful Soup.' % markup)\n",
      "C:\\Users\\VIPL013\\Anaconda3\\lib\\site-packages\\bs4\\__init__.py:282: UserWarning: \"http://www.youtube.com/watch?v=a0KSqelmgN8\"\" looks like a URL. Beautiful Soup is not an HTTP client. You should probably use an HTTP client like requests to get the document behind the URL, and feed that document to Beautiful Soup.\n",
      "  ' that document to Beautiful Soup.' % decoded_markup\n",
      "C:\\Users\\VIPL013\\Anaconda3\\lib\\site-packages\\bs4\\__init__.py:219: UserWarning: \"b'.. .'\" looks like a filename, not markup. You should probably open this file and pass the filehandle into Beautiful Soup.\n",
      "  ' Beautiful Soup.' % markup)\n",
      "C:\\Users\\VIPL013\\Anaconda3\\lib\\site-packages\\bs4\\__init__.py:282: UserWarning: \"http://jake-weird.blogspot.com/2007/08/beneath.html\"\" looks like a URL. Beautiful Soup is not an HTTP client. You should probably use an HTTP client like requests to get the document behind the URL, and feed that document to Beautiful Soup.\n",
      "  ' that document to Beautiful Soup.' % decoded_markup\n"
     ]
    }
   ],
   "source": [
    "#Time taking events\n",
    "sentences=[]\n",
    "print(\"Parsing sentences from training sets\")\n",
    "for review in train['review']:\n",
    "    sentences+=review_to_sentences(review,tokenizer)\n",
    "    \n",
    "    \n",
    "print(\"Parsing sentences from unlabelled training sets\")\n",
    "for review in unlab_train['review']:\n",
    "    sentences+=review_to_sentences(review,tokenizer)"
   ]
  },
  {
   "cell_type": "code",
   "execution_count": 9,
   "metadata": {},
   "outputs": [
    {
     "name": "stdout",
     "output_type": "stream",
     "text": [
      "795538\n",
      "['with', 'all', 'this', 'stuff', 'going', 'down', 'at', 'the', 'moment', 'with', 'mj', 'i', 've', 'started', 'listening', 'to', 'his', 'music', 'watching', 'the', 'odd', 'documentary', 'here', 'and', 'there', 'watched', 'the', 'wiz', 'and', 'watched', 'moonwalker', 'again']\n"
     ]
    }
   ],
   "source": [
    "print(len(sentences))\n",
    "print(sentences[0])"
   ]
  },
  {
   "cell_type": "code",
   "execution_count": 17,
   "metadata": {},
   "outputs": [],
   "source": [
    "#Import the built-in logging module and configure it so that Word2Vec \n",
    "# creates nice output messages\n",
    "import logging\n",
    "\n",
    "logging.basicConfig(format='%(asctime)s: %(levelname)s : %(message)s', level=logging.INFO)\n",
    "\n",
    "# Set values for various parameters\n",
    "num_features = 300    # Word vector dimensionality                      \n",
    "min_word_count = 40   # Minimum word count                        \n",
    "num_workers = 4       # Number of threads to run in parallel\n",
    "context = 10          # Context window size                                                                                    \n",
    "downsampling = 1e-3   # Downsample setting for frequent words"
   ]
  },
  {
   "cell_type": "code",
   "execution_count": 27,
   "metadata": {},
   "outputs": [
    {
     "name": "stderr",
     "output_type": "stream",
     "text": [
      "C:\\Users\\VIPL013\\Anaconda3\\lib\\site-packages\\gensim\\utils.py:1209: UserWarning: detected Windows; aliasing chunkize to chunkize_serial\n",
      "  warnings.warn(\"detected Windows; aliasing chunkize to chunkize_serial\")\n",
      "2018-08-28 08:53:28,879: INFO : 'pattern' package not found; tag filters are not available for English\n"
     ]
    }
   ],
   "source": [
    "#!pip3 install gensim  installing gensim"
   ]
  },
  {
   "cell_type": "code",
   "execution_count": 32,
   "metadata": {},
   "outputs": [
    {
     "name": "stderr",
     "output_type": "stream",
     "text": [
      "2018-08-28 08:58:49,424: INFO : collecting all words and their counts\n",
      "2018-08-28 08:58:49,426: INFO : PROGRESS: at sentence #0, processed 0 words, keeping 0 word types\n",
      "2018-08-28 08:58:49,544: INFO : PROGRESS: at sentence #10000, processed 225803 words, keeping 17776 word types\n"
     ]
    },
    {
     "name": "stdout",
     "output_type": "stream",
     "text": [
      "Training model...\n"
     ]
    },
    {
     "name": "stderr",
     "output_type": "stream",
     "text": [
      "2018-08-28 08:58:49,650: INFO : PROGRESS: at sentence #20000, processed 451892 words, keeping 24948 word types\n",
      "2018-08-28 08:58:49,750: INFO : PROGRESS: at sentence #30000, processed 671315 words, keeping 30034 word types\n",
      "2018-08-28 08:58:49,864: INFO : PROGRESS: at sentence #40000, processed 897815 words, keeping 34348 word types\n",
      "2018-08-28 08:58:49,968: INFO : PROGRESS: at sentence #50000, processed 1116963 words, keeping 37761 word types\n",
      "2018-08-28 08:58:50,084: INFO : PROGRESS: at sentence #60000, processed 1338404 words, keeping 40723 word types\n",
      "2018-08-28 08:58:50,201: INFO : PROGRESS: at sentence #70000, processed 1561580 words, keeping 43333 word types\n",
      "2018-08-28 08:58:50,319: INFO : PROGRESS: at sentence #80000, processed 1780887 words, keeping 45714 word types\n",
      "2018-08-28 08:58:50,460: INFO : PROGRESS: at sentence #90000, processed 2004996 words, keeping 48135 word types\n",
      "2018-08-28 08:58:50,577: INFO : PROGRESS: at sentence #100000, processed 2226966 words, keeping 50207 word types\n",
      "2018-08-28 08:58:50,672: INFO : PROGRESS: at sentence #110000, processed 2446580 words, keeping 52081 word types\n",
      "2018-08-28 08:58:50,812: INFO : PROGRESS: at sentence #120000, processed 2668775 words, keeping 54119 word types\n",
      "2018-08-28 08:58:50,917: INFO : PROGRESS: at sentence #130000, processed 2894303 words, keeping 55847 word types\n",
      "2018-08-28 08:58:51,009: INFO : PROGRESS: at sentence #140000, processed 3107005 words, keeping 57346 word types\n",
      "2018-08-28 08:58:51,104: INFO : PROGRESS: at sentence #150000, processed 3332627 words, keeping 59055 word types\n",
      "2018-08-28 08:58:51,209: INFO : PROGRESS: at sentence #160000, processed 3555315 words, keeping 60617 word types\n",
      "2018-08-28 08:58:51,310: INFO : PROGRESS: at sentence #170000, processed 3778655 words, keeping 62077 word types\n",
      "2018-08-28 08:58:51,412: INFO : PROGRESS: at sentence #180000, processed 3999236 words, keeping 63496 word types\n",
      "2018-08-28 08:58:51,522: INFO : PROGRESS: at sentence #190000, processed 4224449 words, keeping 64794 word types\n",
      "2018-08-28 08:58:51,634: INFO : PROGRESS: at sentence #200000, processed 4448603 words, keeping 66087 word types\n",
      "2018-08-28 08:58:51,732: INFO : PROGRESS: at sentence #210000, processed 4669967 words, keeping 67390 word types\n",
      "2018-08-28 08:58:51,855: INFO : PROGRESS: at sentence #220000, processed 4894968 words, keeping 68697 word types\n",
      "2018-08-28 08:58:52,043: INFO : PROGRESS: at sentence #230000, processed 5117545 words, keeping 69958 word types\n",
      "2018-08-28 08:58:52,144: INFO : PROGRESS: at sentence #240000, processed 5345050 words, keeping 71167 word types\n",
      "2018-08-28 08:58:52,246: INFO : PROGRESS: at sentence #250000, processed 5559165 words, keeping 72351 word types\n",
      "2018-08-28 08:58:52,352: INFO : PROGRESS: at sentence #260000, processed 5779146 words, keeping 73478 word types\n",
      "2018-08-28 08:58:52,465: INFO : PROGRESS: at sentence #270000, processed 6000435 words, keeping 74767 word types\n",
      "2018-08-28 08:58:52,578: INFO : PROGRESS: at sentence #280000, processed 6226314 words, keeping 76369 word types\n",
      "2018-08-28 08:58:52,680: INFO : PROGRESS: at sentence #290000, processed 6449474 words, keeping 77839 word types\n",
      "2018-08-28 08:58:52,816: INFO : PROGRESS: at sentence #300000, processed 6674077 words, keeping 79171 word types\n",
      "2018-08-28 08:58:52,967: INFO : PROGRESS: at sentence #310000, processed 6899391 words, keeping 80480 word types\n",
      "2018-08-28 08:58:53,080: INFO : PROGRESS: at sentence #320000, processed 7124278 words, keeping 81808 word types\n",
      "2018-08-28 08:58:53,182: INFO : PROGRESS: at sentence #330000, processed 7346021 words, keeping 83030 word types\n",
      "2018-08-28 08:58:53,288: INFO : PROGRESS: at sentence #340000, processed 7575533 words, keeping 84280 word types\n",
      "2018-08-28 08:58:53,395: INFO : PROGRESS: at sentence #350000, processed 7798803 words, keeping 85425 word types\n",
      "2018-08-28 08:58:53,491: INFO : PROGRESS: at sentence #360000, processed 8019427 words, keeping 86596 word types\n",
      "2018-08-28 08:58:53,633: INFO : PROGRESS: at sentence #370000, processed 8246619 words, keeping 87708 word types\n",
      "2018-08-28 08:58:53,728: INFO : PROGRESS: at sentence #380000, processed 8471766 words, keeping 88878 word types\n",
      "2018-08-28 08:58:53,829: INFO : PROGRESS: at sentence #390000, processed 8701497 words, keeping 89907 word types\n",
      "2018-08-28 08:58:53,930: INFO : PROGRESS: at sentence #400000, processed 8924446 words, keeping 90916 word types\n",
      "2018-08-28 08:58:54,028: INFO : PROGRESS: at sentence #410000, processed 9145796 words, keeping 91880 word types\n",
      "2018-08-28 08:58:54,133: INFO : PROGRESS: at sentence #420000, processed 9366876 words, keeping 92912 word types\n",
      "2018-08-28 08:58:54,238: INFO : PROGRESS: at sentence #430000, processed 9594413 words, keeping 93932 word types\n",
      "2018-08-28 08:58:54,365: INFO : PROGRESS: at sentence #440000, processed 9821166 words, keeping 94906 word types\n",
      "2018-08-28 08:58:54,468: INFO : PROGRESS: at sentence #450000, processed 10044928 words, keeping 96036 word types\n",
      "2018-08-28 08:58:54,581: INFO : PROGRESS: at sentence #460000, processed 10277688 words, keeping 97088 word types\n",
      "2018-08-28 08:58:54,678: INFO : PROGRESS: at sentence #470000, processed 10505613 words, keeping 97933 word types\n",
      "2018-08-28 08:58:54,773: INFO : PROGRESS: at sentence #480000, processed 10725997 words, keeping 98862 word types\n",
      "2018-08-28 08:58:54,879: INFO : PROGRESS: at sentence #490000, processed 10952741 words, keeping 99871 word types\n",
      "2018-08-28 08:58:54,972: INFO : PROGRESS: at sentence #500000, processed 11174397 words, keeping 100765 word types\n",
      "2018-08-28 08:58:55,079: INFO : PROGRESS: at sentence #510000, processed 11399672 words, keeping 101699 word types\n",
      "2018-08-28 08:58:55,203: INFO : PROGRESS: at sentence #520000, processed 11623020 words, keeping 102598 word types\n",
      "2018-08-28 08:58:55,278: INFO : PROGRESS: at sentence #530000, processed 11847418 words, keeping 103400 word types\n",
      "2018-08-28 08:58:55,387: INFO : PROGRESS: at sentence #540000, processed 12072033 words, keeping 104265 word types\n",
      "2018-08-28 08:58:55,534: INFO : PROGRESS: at sentence #550000, processed 12297571 words, keeping 105133 word types\n",
      "2018-08-28 08:58:55,630: INFO : PROGRESS: at sentence #560000, processed 12518861 words, keeping 105997 word types\n",
      "2018-08-28 08:58:55,718: INFO : PROGRESS: at sentence #570000, processed 12747916 words, keeping 106787 word types\n",
      "2018-08-28 08:58:55,826: INFO : PROGRESS: at sentence #580000, processed 12969412 words, keeping 107665 word types\n",
      "2018-08-28 08:58:55,927: INFO : PROGRESS: at sentence #590000, processed 13194937 words, keeping 108501 word types\n",
      "2018-08-28 08:58:56,030: INFO : PROGRESS: at sentence #600000, processed 13417135 words, keeping 109218 word types\n",
      "2018-08-28 08:58:56,129: INFO : PROGRESS: at sentence #610000, processed 13638158 words, keeping 110092 word types\n",
      "2018-08-28 08:58:56,243: INFO : PROGRESS: at sentence #620000, processed 13864483 words, keeping 110837 word types\n",
      "2018-08-28 08:58:56,381: INFO : PROGRESS: at sentence #630000, processed 14088769 words, keeping 111610 word types\n",
      "2018-08-28 08:58:56,470: INFO : PROGRESS: at sentence #640000, processed 14309552 words, keeping 112416 word types\n",
      "2018-08-28 08:58:56,569: INFO : PROGRESS: at sentence #650000, processed 14535308 words, keeping 113196 word types\n",
      "2018-08-28 08:58:56,673: INFO : PROGRESS: at sentence #660000, processed 14758098 words, keeping 113945 word types\n",
      "2018-08-28 08:58:56,766: INFO : PROGRESS: at sentence #670000, processed 14981482 words, keeping 114643 word types\n",
      "2018-08-28 08:58:56,855: INFO : PROGRESS: at sentence #680000, processed 15206314 words, keeping 115354 word types\n",
      "2018-08-28 08:58:56,955: INFO : PROGRESS: at sentence #690000, processed 15428507 words, keeping 116131 word types\n",
      "2018-08-28 08:58:57,036: INFO : PROGRESS: at sentence #700000, processed 15657213 words, keeping 116943 word types\n",
      "2018-08-28 08:58:57,120: INFO : PROGRESS: at sentence #710000, processed 15880202 words, keeping 117596 word types\n",
      "2018-08-28 08:58:57,203: INFO : PROGRESS: at sentence #720000, processed 16105489 words, keeping 118221 word types\n",
      "2018-08-28 08:58:57,292: INFO : PROGRESS: at sentence #730000, processed 16331870 words, keeping 118954 word types\n",
      "2018-08-28 08:58:57,380: INFO : PROGRESS: at sentence #740000, processed 16552903 words, keeping 119668 word types\n"
     ]
    },
    {
     "name": "stderr",
     "output_type": "stream",
     "text": [
      "2018-08-28 08:58:57,479: INFO : PROGRESS: at sentence #750000, processed 16771230 words, keeping 120295 word types\n",
      "2018-08-28 08:58:57,590: INFO : PROGRESS: at sentence #760000, processed 16990622 words, keeping 120930 word types\n",
      "2018-08-28 08:58:57,687: INFO : PROGRESS: at sentence #770000, processed 17217759 words, keeping 121703 word types\n",
      "2018-08-28 08:58:57,766: INFO : PROGRESS: at sentence #780000, processed 17447905 words, keeping 122402 word types\n",
      "2018-08-28 08:58:57,868: INFO : PROGRESS: at sentence #790000, processed 17674981 words, keeping 123066 word types\n",
      "2018-08-28 08:58:57,935: INFO : collected 123504 word types from a corpus of 17798082 raw words and 795538 sentences\n",
      "2018-08-28 08:58:57,937: INFO : Loading a fresh vocabulary\n",
      "2018-08-28 08:58:58,064: INFO : effective_min_count=40 retains 16490 unique words (13% of original 123504, drops 107014)\n",
      "2018-08-28 08:58:58,066: INFO : effective_min_count=40 leaves 17238940 word corpus (96% of original 17798082, drops 559142)\n",
      "2018-08-28 08:58:58,146: INFO : deleting the raw counts dictionary of 123504 items\n",
      "2018-08-28 08:58:58,158: INFO : sample=0.001 downsamples 48 most-common words\n",
      "2018-08-28 08:58:58,161: INFO : downsampling leaves estimated 12749658 word corpus (74.0% of prior 17238940)\n",
      "2018-08-28 08:58:58,250: INFO : estimated required memory for 16490 words and 300 dimensions: 47821000 bytes\n",
      "2018-08-28 08:58:58,251: INFO : resetting layer weights\n",
      "2018-08-28 08:58:58,633: INFO : training model with 4 workers on 16490 vocabulary and 300 features, using sg=0 hs=0 sample=0.001 negative=5 window=10\n",
      "2018-08-28 08:58:59,675: INFO : EPOCH 1 - PROGRESS: at 3.76% examples, 474134 words/s, in_qsize 7, out_qsize 0\n",
      "2018-08-28 08:59:00,694: INFO : EPOCH 1 - PROGRESS: at 8.67% examples, 542561 words/s, in_qsize 6, out_qsize 1\n",
      "2018-08-28 08:59:01,704: INFO : EPOCH 1 - PROGRESS: at 12.74% examples, 531769 words/s, in_qsize 8, out_qsize 0\n",
      "2018-08-28 08:59:02,710: INFO : EPOCH 1 - PROGRESS: at 16.95% examples, 530549 words/s, in_qsize 7, out_qsize 0\n",
      "2018-08-28 08:59:03,711: INFO : EPOCH 1 - PROGRESS: at 21.57% examples, 541379 words/s, in_qsize 8, out_qsize 0\n",
      "2018-08-28 08:59:04,722: INFO : EPOCH 1 - PROGRESS: at 26.46% examples, 553719 words/s, in_qsize 6, out_qsize 1\n",
      "2018-08-28 08:59:05,723: INFO : EPOCH 1 - PROGRESS: at 31.37% examples, 563231 words/s, in_qsize 8, out_qsize 0\n",
      "2018-08-28 08:59:06,740: INFO : EPOCH 1 - PROGRESS: at 36.95% examples, 579855 words/s, in_qsize 7, out_qsize 0\n",
      "2018-08-28 08:59:07,741: INFO : EPOCH 1 - PROGRESS: at 41.76% examples, 583697 words/s, in_qsize 7, out_qsize 0\n",
      "2018-08-28 08:59:08,745: INFO : EPOCH 1 - PROGRESS: at 46.61% examples, 587234 words/s, in_qsize 8, out_qsize 0\n",
      "2018-08-28 08:59:09,746: INFO : EPOCH 1 - PROGRESS: at 51.81% examples, 594265 words/s, in_qsize 6, out_qsize 1\n",
      "2018-08-28 08:59:10,774: INFO : EPOCH 1 - PROGRESS: at 56.99% examples, 598674 words/s, in_qsize 8, out_qsize 1\n",
      "2018-08-28 08:59:11,788: INFO : EPOCH 1 - PROGRESS: at 62.13% examples, 603071 words/s, in_qsize 8, out_qsize 0\n",
      "2018-08-28 08:59:12,797: INFO : EPOCH 1 - PROGRESS: at 67.23% examples, 606065 words/s, in_qsize 7, out_qsize 0\n",
      "2018-08-28 08:59:13,799: INFO : EPOCH 1 - PROGRESS: at 72.78% examples, 612747 words/s, in_qsize 8, out_qsize 0\n",
      "2018-08-28 08:59:14,816: INFO : EPOCH 1 - PROGRESS: at 77.72% examples, 613088 words/s, in_qsize 8, out_qsize 0\n",
      "2018-08-28 08:59:15,826: INFO : EPOCH 1 - PROGRESS: at 82.89% examples, 615318 words/s, in_qsize 8, out_qsize 1\n",
      "2018-08-28 08:59:16,840: INFO : EPOCH 1 - PROGRESS: at 87.69% examples, 614877 words/s, in_qsize 8, out_qsize 0\n",
      "2018-08-28 08:59:17,852: INFO : EPOCH 1 - PROGRESS: at 92.50% examples, 614529 words/s, in_qsize 6, out_qsize 1\n",
      "2018-08-28 08:59:18,854: INFO : EPOCH 1 - PROGRESS: at 97.62% examples, 616234 words/s, in_qsize 7, out_qsize 0\n",
      "2018-08-28 08:59:19,238: INFO : worker thread finished; awaiting finish of 3 more threads\n",
      "2018-08-28 08:59:19,245: INFO : worker thread finished; awaiting finish of 2 more threads\n",
      "2018-08-28 08:59:19,263: INFO : worker thread finished; awaiting finish of 1 more threads\n",
      "2018-08-28 08:59:19,266: INFO : worker thread finished; awaiting finish of 0 more threads\n",
      "2018-08-28 08:59:19,270: INFO : EPOCH - 1 : training on 17798082 raw words (12748630 effective words) took 20.6s, 618696 effective words/s\n",
      "2018-08-28 08:59:20,290: INFO : EPOCH 2 - PROGRESS: at 5.30% examples, 670709 words/s, in_qsize 7, out_qsize 0\n",
      "2018-08-28 08:59:21,297: INFO : EPOCH 2 - PROGRESS: at 10.76% examples, 676265 words/s, in_qsize 8, out_qsize 1\n",
      "2018-08-28 08:59:22,304: INFO : EPOCH 2 - PROGRESS: at 16.24% examples, 680785 words/s, in_qsize 8, out_qsize 0\n",
      "2018-08-28 08:59:23,312: INFO : EPOCH 2 - PROGRESS: at 21.18% examples, 664644 words/s, in_qsize 8, out_qsize 1\n",
      "2018-08-28 08:59:24,321: INFO : EPOCH 2 - PROGRESS: at 26.18% examples, 657902 words/s, in_qsize 8, out_qsize 0\n",
      "2018-08-28 08:59:25,329: INFO : EPOCH 2 - PROGRESS: at 31.09% examples, 650907 words/s, in_qsize 6, out_qsize 1\n",
      "2018-08-28 08:59:26,335: INFO : EPOCH 2 - PROGRESS: at 35.78% examples, 642187 words/s, in_qsize 7, out_qsize 0\n",
      "2018-08-28 08:59:27,345: INFO : EPOCH 2 - PROGRESS: at 40.74% examples, 640754 words/s, in_qsize 8, out_qsize 0\n",
      "2018-08-28 08:59:28,349: INFO : EPOCH 2 - PROGRESS: at 45.46% examples, 636116 words/s, in_qsize 8, out_qsize 0\n",
      "2018-08-28 08:59:29,362: INFO : EPOCH 2 - PROGRESS: at 50.22% examples, 633161 words/s, in_qsize 7, out_qsize 0\n",
      "2018-08-28 08:59:30,365: INFO : EPOCH 2 - PROGRESS: at 55.38% examples, 635180 words/s, in_qsize 7, out_qsize 0\n",
      "2018-08-28 08:59:31,385: INFO : EPOCH 2 - PROGRESS: at 60.58% examples, 637254 words/s, in_qsize 6, out_qsize 1\n",
      "2018-08-28 08:59:32,386: INFO : EPOCH 2 - PROGRESS: at 66.39% examples, 645280 words/s, in_qsize 7, out_qsize 0\n",
      "2018-08-28 08:59:33,397: INFO : EPOCH 2 - PROGRESS: at 71.27% examples, 643168 words/s, in_qsize 6, out_qsize 1\n",
      "2018-08-28 08:59:34,409: INFO : EPOCH 2 - PROGRESS: at 76.22% examples, 641806 words/s, in_qsize 7, out_qsize 0\n",
      "2018-08-28 08:59:35,411: INFO : EPOCH 2 - PROGRESS: at 81.70% examples, 645344 words/s, in_qsize 7, out_qsize 0\n",
      "2018-08-28 08:59:36,440: INFO : EPOCH 2 - PROGRESS: at 86.64% examples, 643340 words/s, in_qsize 8, out_qsize 0\n",
      "2018-08-28 08:59:37,451: INFO : EPOCH 2 - PROGRESS: at 91.49% examples, 641752 words/s, in_qsize 7, out_qsize 0\n",
      "2018-08-28 08:59:38,455: INFO : EPOCH 2 - PROGRESS: at 96.36% examples, 640281 words/s, in_qsize 7, out_qsize 0\n",
      "2018-08-28 08:59:39,180: INFO : worker thread finished; awaiting finish of 3 more threads\n",
      "2018-08-28 08:59:39,195: INFO : worker thread finished; awaiting finish of 2 more threads\n",
      "2018-08-28 08:59:39,203: INFO : worker thread finished; awaiting finish of 1 more threads\n",
      "2018-08-28 08:59:39,207: INFO : worker thread finished; awaiting finish of 0 more threads\n",
      "2018-08-28 08:59:39,209: INFO : EPOCH - 2 : training on 17798082 raw words (12750052 effective words) took 19.9s, 639727 effective words/s\n",
      "2018-08-28 08:59:40,229: INFO : EPOCH 3 - PROGRESS: at 4.81% examples, 609316 words/s, in_qsize 7, out_qsize 0\n",
      "2018-08-28 08:59:41,231: INFO : EPOCH 3 - PROGRESS: at 9.81% examples, 618154 words/s, in_qsize 7, out_qsize 0\n",
      "2018-08-28 08:59:42,238: INFO : EPOCH 3 - PROGRESS: at 14.72% examples, 618571 words/s, in_qsize 8, out_qsize 0\n",
      "2018-08-28 08:59:43,253: INFO : EPOCH 3 - PROGRESS: at 19.65% examples, 616977 words/s, in_qsize 8, out_qsize 0\n",
      "2018-08-28 08:59:44,257: INFO : EPOCH 3 - PROGRESS: at 24.61% examples, 618934 words/s, in_qsize 7, out_qsize 0\n",
      "2018-08-28 08:59:45,262: INFO : EPOCH 3 - PROGRESS: at 29.53% examples, 620145 words/s, in_qsize 8, out_qsize 0\n",
      "2018-08-28 08:59:46,267: INFO : EPOCH 3 - PROGRESS: at 34.49% examples, 619708 words/s, in_qsize 8, out_qsize 0\n",
      "2018-08-28 08:59:47,275: INFO : EPOCH 3 - PROGRESS: at 39.64% examples, 623863 words/s, in_qsize 7, out_qsize 0\n",
      "2018-08-28 08:59:48,276: INFO : EPOCH 3 - PROGRESS: at 44.89% examples, 629205 words/s, in_qsize 8, out_qsize 0\n",
      "2018-08-28 08:59:49,280: INFO : EPOCH 3 - PROGRESS: at 49.15% examples, 621167 words/s, in_qsize 7, out_qsize 0\n",
      "2018-08-28 08:59:50,285: INFO : EPOCH 3 - PROGRESS: at 53.27% examples, 611884 words/s, in_qsize 8, out_qsize 0\n",
      "2018-08-28 08:59:51,291: INFO : EPOCH 3 - PROGRESS: at 57.73% examples, 608810 words/s, in_qsize 7, out_qsize 0\n"
     ]
    },
    {
     "name": "stderr",
     "output_type": "stream",
     "text": [
      "2018-08-28 08:59:52,307: INFO : EPOCH 3 - PROGRESS: at 62.82% examples, 611332 words/s, in_qsize 7, out_qsize 0\n",
      "2018-08-28 08:59:53,314: INFO : EPOCH 3 - PROGRESS: at 67.69% examples, 611746 words/s, in_qsize 8, out_qsize 0\n",
      "2018-08-28 08:59:54,328: INFO : EPOCH 3 - PROGRESS: at 72.66% examples, 612835 words/s, in_qsize 8, out_qsize 1\n",
      "2018-08-28 08:59:55,337: INFO : EPOCH 3 - PROGRESS: at 77.66% examples, 613974 words/s, in_qsize 7, out_qsize 0\n",
      "2018-08-28 08:59:56,347: INFO : EPOCH 3 - PROGRESS: at 82.61% examples, 614496 words/s, in_qsize 8, out_qsize 0\n",
      "2018-08-28 08:59:57,348: INFO : EPOCH 3 - PROGRESS: at 87.31% examples, 613657 words/s, in_qsize 8, out_qsize 1\n",
      "2018-08-28 08:59:58,358: INFO : EPOCH 3 - PROGRESS: at 92.04% examples, 613036 words/s, in_qsize 8, out_qsize 0\n",
      "2018-08-28 08:59:59,359: INFO : EPOCH 3 - PROGRESS: at 96.86% examples, 612740 words/s, in_qsize 7, out_qsize 0\n",
      "2018-08-28 08:59:59,975: INFO : worker thread finished; awaiting finish of 3 more threads\n",
      "2018-08-28 08:59:59,983: INFO : worker thread finished; awaiting finish of 2 more threads\n",
      "2018-08-28 08:59:59,995: INFO : worker thread finished; awaiting finish of 1 more threads\n",
      "2018-08-28 08:59:59,999: INFO : worker thread finished; awaiting finish of 0 more threads\n",
      "2018-08-28 09:00:00,000: INFO : EPOCH - 3 : training on 17798082 raw words (12747047 effective words) took 20.8s, 613437 effective words/s\n",
      "2018-08-28 09:00:01,023: INFO : EPOCH 4 - PROGRESS: at 4.70% examples, 596646 words/s, in_qsize 7, out_qsize 0\n",
      "2018-08-28 09:00:02,032: INFO : EPOCH 4 - PROGRESS: at 9.62% examples, 606785 words/s, in_qsize 8, out_qsize 0\n",
      "2018-08-28 09:00:03,040: INFO : EPOCH 4 - PROGRESS: at 14.56% examples, 610521 words/s, in_qsize 8, out_qsize 0\n",
      "2018-08-28 09:00:04,047: INFO : EPOCH 4 - PROGRESS: at 19.44% examples, 610493 words/s, in_qsize 7, out_qsize 0\n",
      "2018-08-28 09:00:05,054: INFO : EPOCH 4 - PROGRESS: at 23.82% examples, 599283 words/s, in_qsize 8, out_qsize 0\n",
      "2018-08-28 09:00:06,069: INFO : EPOCH 4 - PROGRESS: at 28.08% examples, 588387 words/s, in_qsize 7, out_qsize 0\n",
      "2018-08-28 09:00:07,086: INFO : EPOCH 4 - PROGRESS: at 32.86% examples, 588556 words/s, in_qsize 8, out_qsize 0\n",
      "2018-08-28 09:00:08,095: INFO : EPOCH 4 - PROGRESS: at 37.79% examples, 592979 words/s, in_qsize 7, out_qsize 0\n",
      "2018-08-28 09:00:09,104: INFO : EPOCH 4 - PROGRESS: at 42.80% examples, 597996 words/s, in_qsize 6, out_qsize 1\n",
      "2018-08-28 09:00:10,117: INFO : EPOCH 4 - PROGRESS: at 47.84% examples, 601684 words/s, in_qsize 7, out_qsize 0\n",
      "2018-08-28 09:00:11,121: INFO : EPOCH 4 - PROGRESS: at 52.78% examples, 603920 words/s, in_qsize 8, out_qsize 0\n",
      "2018-08-28 09:00:12,135: INFO : EPOCH 4 - PROGRESS: at 57.63% examples, 605298 words/s, in_qsize 7, out_qsize 0\n",
      "2018-08-28 09:00:13,150: INFO : EPOCH 4 - PROGRESS: at 62.54% examples, 606446 words/s, in_qsize 7, out_qsize 0\n",
      "2018-08-28 09:00:14,156: INFO : EPOCH 4 - PROGRESS: at 67.46% examples, 607832 words/s, in_qsize 7, out_qsize 0\n",
      "2018-08-28 09:00:15,175: INFO : EPOCH 4 - PROGRESS: at 72.38% examples, 608538 words/s, in_qsize 8, out_qsize 0\n",
      "2018-08-28 09:00:16,177: INFO : EPOCH 4 - PROGRESS: at 77.26% examples, 609324 words/s, in_qsize 7, out_qsize 0\n",
      "2018-08-28 09:00:17,180: INFO : EPOCH 4 - PROGRESS: at 82.04% examples, 609067 words/s, in_qsize 8, out_qsize 0\n",
      "2018-08-28 09:00:18,192: INFO : EPOCH 4 - PROGRESS: at 86.97% examples, 609826 words/s, in_qsize 7, out_qsize 0\n",
      "2018-08-28 09:00:19,207: INFO : EPOCH 4 - PROGRESS: at 92.15% examples, 612244 words/s, in_qsize 7, out_qsize 0\n",
      "2018-08-28 09:00:20,207: INFO : EPOCH 4 - PROGRESS: at 96.96% examples, 612016 words/s, in_qsize 8, out_qsize 0\n",
      "2018-08-28 09:00:20,839: INFO : worker thread finished; awaiting finish of 3 more threads\n",
      "2018-08-28 09:00:20,848: INFO : worker thread finished; awaiting finish of 2 more threads\n",
      "2018-08-28 09:00:20,860: INFO : worker thread finished; awaiting finish of 1 more threads\n",
      "2018-08-28 09:00:20,869: INFO : worker thread finished; awaiting finish of 0 more threads\n",
      "2018-08-28 09:00:20,872: INFO : EPOCH - 4 : training on 17798082 raw words (12749846 effective words) took 20.9s, 611350 effective words/s\n",
      "2018-08-28 09:00:21,888: INFO : EPOCH 5 - PROGRESS: at 4.16% examples, 525852 words/s, in_qsize 8, out_qsize 0\n",
      "2018-08-28 09:00:22,888: INFO : EPOCH 5 - PROGRESS: at 8.56% examples, 541246 words/s, in_qsize 8, out_qsize 1\n",
      "2018-08-28 09:00:23,894: INFO : EPOCH 5 - PROGRESS: at 13.60% examples, 572249 words/s, in_qsize 8, out_qsize 0\n",
      "2018-08-28 09:00:24,899: INFO : EPOCH 5 - PROGRESS: at 18.42% examples, 580360 words/s, in_qsize 7, out_qsize 0\n",
      "2018-08-28 09:00:25,921: INFO : EPOCH 5 - PROGRESS: at 23.43% examples, 588993 words/s, in_qsize 8, out_qsize 0\n",
      "2018-08-28 09:00:26,928: INFO : EPOCH 5 - PROGRESS: at 28.31% examples, 593613 words/s, in_qsize 8, out_qsize 0\n",
      "2018-08-28 09:00:27,934: INFO : EPOCH 5 - PROGRESS: at 33.21% examples, 596055 words/s, in_qsize 8, out_qsize 0\n",
      "2018-08-28 09:00:28,941: INFO : EPOCH 5 - PROGRESS: at 37.95% examples, 597026 words/s, in_qsize 7, out_qsize 0\n",
      "2018-08-28 09:00:29,941: INFO : EPOCH 5 - PROGRESS: at 42.86% examples, 600605 words/s, in_qsize 7, out_qsize 0\n",
      "2018-08-28 09:00:30,955: INFO : EPOCH 5 - PROGRESS: at 47.67% examples, 601180 words/s, in_qsize 8, out_qsize 1\n",
      "2018-08-28 09:00:31,964: INFO : EPOCH 5 - PROGRESS: at 52.78% examples, 605244 words/s, in_qsize 8, out_qsize 0\n",
      "2018-08-28 09:00:32,973: INFO : EPOCH 5 - PROGRESS: at 57.52% examples, 605482 words/s, in_qsize 8, out_qsize 1\n",
      "2018-08-28 09:00:33,979: INFO : EPOCH 5 - PROGRESS: at 62.30% examples, 605909 words/s, in_qsize 8, out_qsize 0\n",
      "2018-08-28 09:00:34,984: INFO : EPOCH 5 - PROGRESS: at 67.29% examples, 607944 words/s, in_qsize 7, out_qsize 0\n",
      "2018-08-28 09:00:35,984: INFO : EPOCH 5 - PROGRESS: at 72.09% examples, 608378 words/s, in_qsize 8, out_qsize 0\n",
      "2018-08-28 09:00:36,993: INFO : EPOCH 5 - PROGRESS: at 76.66% examples, 606236 words/s, in_qsize 8, out_qsize 1\n",
      "2018-08-28 09:00:37,999: INFO : EPOCH 5 - PROGRESS: at 80.93% examples, 602408 words/s, in_qsize 8, out_qsize 0\n",
      "2018-08-28 09:00:39,002: INFO : EPOCH 5 - PROGRESS: at 85.58% examples, 601836 words/s, in_qsize 8, out_qsize 0\n",
      "2018-08-28 09:00:40,006: INFO : EPOCH 5 - PROGRESS: at 90.48% examples, 603159 words/s, in_qsize 7, out_qsize 0\n",
      "2018-08-28 09:00:41,016: INFO : EPOCH 5 - PROGRESS: at 95.53% examples, 604539 words/s, in_qsize 7, out_qsize 0\n",
      "2018-08-28 09:00:41,878: INFO : worker thread finished; awaiting finish of 3 more threads\n",
      "2018-08-28 09:00:41,893: INFO : worker thread finished; awaiting finish of 2 more threads\n",
      "2018-08-28 09:00:41,901: INFO : worker thread finished; awaiting finish of 1 more threads\n",
      "2018-08-28 09:00:41,907: INFO : worker thread finished; awaiting finish of 0 more threads\n",
      "2018-08-28 09:00:41,908: INFO : EPOCH - 5 : training on 17798082 raw words (12751861 effective words) took 21.0s, 606453 effective words/s\n",
      "2018-08-28 09:00:41,909: INFO : training on a 88990410 raw words (63747436 effective words) took 103.3s, 617258 effective words/s\n",
      "2018-08-28 09:00:41,911: INFO : precomputing L2-norms of word weight vectors\n",
      "2018-08-28 09:00:42,102: INFO : saving Word2Vec object under 300features_40minwords_10context, separately None\n",
      "2018-08-28 09:00:42,104: INFO : not storing attribute vectors_norm\n",
      "2018-08-28 09:00:42,107: INFO : not storing attribute cum_table\n",
      "2018-08-28 09:00:42,971: INFO : saved 300features_40minwords_10context\n"
     ]
    }
   ],
   "source": [
    "from gensim.models import word2vec\n",
    "print(\"Training model...\")\n",
    "model= word2vec.Word2Vec(sentences, workers=num_workers,\n",
    "                        size=num_features,\n",
    "                        min_count=min_word_count,\n",
    "                        window=context,\n",
    "                        sample=downsampling)\n",
    "model.init_sims(replace=True)      # init_sims will make the model much more memory-efficient.\n",
    "model_name=\"300features_40minwords_10context\"\n",
    "model.save(model_name) #save the model for later use. You can load it later using Word2Vec.load()"
   ]
  },
  {
   "cell_type": "code",
   "execution_count": 53,
   "metadata": {},
   "outputs": [
    {
     "name": "stderr",
     "output_type": "stream",
     "text": [
      "C:\\Users\\VIPL013\\Anaconda3\\lib\\site-packages\\ipykernel_launcher.py:1: DeprecationWarning: Call to deprecated `doesnt_match` (Method will be removed in 4.0.0, use self.wv.doesnt_match() instead).\n",
      "  \"\"\"Entry point for launching an IPython kernel.\n"
     ]
    },
    {
     "data": {
      "text/plain": [
       "'kitchen'"
      ]
     },
     "execution_count": 53,
     "metadata": {},
     "output_type": "execute_result"
    }
   ],
   "source": [
    "model.doesnt_match(\"man  woman child kitchen \".split())"
   ]
  },
  {
   "cell_type": "code",
   "execution_count": 57,
   "metadata": {},
   "outputs": [
    {
     "name": "stderr",
     "output_type": "stream",
     "text": [
      "C:\\Users\\VIPL013\\Anaconda3\\lib\\site-packages\\ipykernel_launcher.py:1: DeprecationWarning: Call to deprecated `doesnt_match` (Method will be removed in 4.0.0, use self.wv.doesnt_match() instead).\n",
      "  \"\"\"Entry point for launching an IPython kernel.\n",
      "2018-08-28 09:19:38,304: WARNING : vectors for words {'India'} are not present in the model, ignoring these words\n"
     ]
    },
    {
     "data": {
      "text/plain": [
       "'london'"
      ]
     },
     "execution_count": 57,
     "metadata": {},
     "output_type": "execute_result"
    }
   ],
   "source": [
    "model.doesnt_match('paris berlin london India'.split()) #not correct"
   ]
  },
  {
   "cell_type": "code",
   "execution_count": 55,
   "metadata": {},
   "outputs": [
    {
     "name": "stderr",
     "output_type": "stream",
     "text": [
      "C:\\Users\\VIPL013\\Anaconda3\\lib\\site-packages\\ipykernel_launcher.py:1: DeprecationWarning: Call to deprecated `doesnt_match` (Method will be removed in 4.0.0, use self.wv.doesnt_match() instead).\n",
      "  \"\"\"Entry point for launching an IPython kernel.\n"
     ]
    },
    {
     "data": {
      "text/plain": [
       "'berlin'"
      ]
     },
     "execution_count": 55,
     "metadata": {},
     "output_type": "execute_result"
    }
   ],
   "source": [
    "model.doesnt_match('france england germany berlin'.split())"
   ]
  },
  {
   "cell_type": "code",
   "execution_count": 58,
   "metadata": {},
   "outputs": [
    {
     "name": "stderr",
     "output_type": "stream",
     "text": [
      "C:\\Users\\VIPL013\\Anaconda3\\lib\\site-packages\\ipykernel_launcher.py:1: DeprecationWarning: Call to deprecated `most_similar` (Method will be removed in 4.0.0, use self.wv.most_similar() instead).\n",
      "  \"\"\"Entry point for launching an IPython kernel.\n"
     ]
    },
    {
     "data": {
      "text/plain": [
       "[('woman', 0.6322795152664185),\n",
       " ('lady', 0.6022685766220093),\n",
       " ('lad', 0.5814216136932373),\n",
       " ('farmer', 0.5361886024475098),\n",
       " ('soldier', 0.5300039052963257),\n",
       " ('men', 0.5290796160697937),\n",
       " ('millionaire', 0.5165280103683472),\n",
       " ('businessman', 0.5111342668533325),\n",
       " ('person', 0.5093293786048889),\n",
       " ('policeman', 0.507225751876831)]"
      ]
     },
     "execution_count": 58,
     "metadata": {},
     "output_type": "execute_result"
    }
   ],
   "source": [
    "model.most_similar('man')"
   ]
  },
  {
   "cell_type": "code",
   "execution_count": 59,
   "metadata": {},
   "outputs": [
    {
     "name": "stderr",
     "output_type": "stream",
     "text": [
      "C:\\Users\\VIPL013\\Anaconda3\\lib\\site-packages\\ipykernel_launcher.py:1: DeprecationWarning: Call to deprecated `most_similar` (Method will be removed in 4.0.0, use self.wv.most_similar() instead).\n",
      "  \"\"\"Entry point for launching an IPython kernel.\n"
     ]
    },
    {
     "data": {
      "text/plain": [
       "[('princess', 0.6921592950820923),\n",
       " ('belle', 0.6261844635009766),\n",
       " ('bride', 0.6246557235717773),\n",
       " ('victoria', 0.6203603744506836),\n",
       " ('maid', 0.6162511110305786),\n",
       " ('dame', 0.5923529267311096),\n",
       " ('stepmother', 0.5910489559173584),\n",
       " ('widow', 0.586331844329834),\n",
       " ('marlene', 0.582047700881958),\n",
       " ('countess', 0.5790597796440125)]"
      ]
     },
     "execution_count": 59,
     "metadata": {},
     "output_type": "execute_result"
    }
   ],
   "source": [
    "model.most_similar('queen')"
   ]
  },
  {
   "cell_type": "code",
   "execution_count": 60,
   "metadata": {},
   "outputs": [
    {
     "name": "stderr",
     "output_type": "stream",
     "text": [
      "C:\\Users\\VIPL013\\Anaconda3\\lib\\site-packages\\ipykernel_launcher.py:1: DeprecationWarning: Call to deprecated `most_similar` (Method will be removed in 4.0.0, use self.wv.most_similar() instead).\n",
      "  \"\"\"Entry point for launching an IPython kernel.\n"
     ]
    },
    {
     "data": {
      "text/plain": [
       "[('terrible', 0.7781771421432495),\n",
       " ('atrocious', 0.7508953809738159),\n",
       " ('horrible', 0.7311934232711792),\n",
       " ('abysmal', 0.7290616035461426),\n",
       " ('dreadful', 0.7164966464042664),\n",
       " ('horrendous', 0.6882622241973877),\n",
       " ('horrid', 0.6806074380874634),\n",
       " ('appalling', 0.6685008406639099),\n",
       " ('lousy', 0.6501781344413757),\n",
       " ('laughable', 0.6276453733444214)]"
      ]
     },
     "execution_count": 60,
     "metadata": {},
     "output_type": "execute_result"
    }
   ],
   "source": [
    "model.most_similar('awful')"
   ]
  },
  {
   "cell_type": "code",
   "execution_count": 70,
   "metadata": {},
   "outputs": [
    {
     "name": "stderr",
     "output_type": "stream",
     "text": [
      "C:\\Users\\VIPL013\\Anaconda3\\lib\\site-packages\\ipykernel_launcher.py:1: DeprecationWarning: Call to deprecated `most_similar` (Method will be removed in 4.0.0, use self.wv.most_similar() instead).\n",
      "  \"\"\"Entry point for launching an IPython kernel.\n"
     ]
    },
    {
     "data": {
      "text/plain": [
       "[('terrible', 0.6780447363853455),\n",
       " ('horrible', 0.6577404141426086),\n",
       " ('good', 0.6260221600532532),\n",
       " ('crappy', 0.6259921789169312),\n",
       " ('lousy', 0.6008751392364502),\n",
       " ('awful', 0.59053635597229),\n",
       " ('stupid', 0.5894876718521118),\n",
       " ('cheesy', 0.5790930986404419),\n",
       " ('lame', 0.5670125484466553),\n",
       " ('atrocious', 0.544480562210083)]"
      ]
     },
     "execution_count": 70,
     "metadata": {},
     "output_type": "execute_result"
    }
   ],
   "source": [
    "model.most_similar('bad')"
   ]
  },
  {
   "cell_type": "code",
   "execution_count": 81,
   "metadata": {},
   "outputs": [
    {
     "name": "stderr",
     "output_type": "stream",
     "text": [
      "C:\\Users\\VIPL013\\Anaconda3\\lib\\site-packages\\ipykernel_launcher.py:1: DeprecationWarning: Call to deprecated `doesnt_match` (Method will be removed in 4.0.0, use self.wv.doesnt_match() instead).\n",
      "  \"\"\"Entry point for launching an IPython kernel.\n"
     ]
    },
    {
     "data": {
      "text/plain": [
       "'inferior'"
      ]
     },
     "execution_count": 81,
     "metadata": {},
     "output_type": "execute_result"
    }
   ],
   "source": [
    "model.doesnt_match(' inferior bad good'.split())"
   ]
  }
 ],
 "metadata": {
  "kernelspec": {
   "display_name": "Python 3",
   "language": "python",
   "name": "python3"
  },
  "language_info": {
   "codemirror_mode": {
    "name": "ipython",
    "version": 3
   },
   "file_extension": ".py",
   "mimetype": "text/x-python",
   "name": "python",
   "nbconvert_exporter": "python",
   "pygments_lexer": "ipython3",
   "version": "3.6.1"
  }
 },
 "nbformat": 4,
 "nbformat_minor": 2
}
